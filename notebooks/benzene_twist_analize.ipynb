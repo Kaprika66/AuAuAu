{
 "cells": [
  {
   "cell_type": "code",
   "execution_count": null,
   "metadata": {},
   "outputs": [],
   "source": [
    "import sys\n",
    "\n",
    "sys.path.append(\"..\")\n",
    "import os\n",
    "import re\n",
    "from math import pi\n",
    "\n",
    "import ase\n",
    "import matplotlib as mpl\n",
    "import matplotlib.pyplot as plt\n",
    "import numpy as np\n",
    "import pandas as pd\n",
    "from ase import Atoms\n",
    "from ase.visualize import view\n",
    "from mpl_toolkits import mplot3d\n",
    "\n",
    "import config.paths as PATHS\n",
    "import src.features.features_extractors as features_extractors"
   ]
  },
  {
   "attachments": {},
   "cell_type": "markdown",
   "metadata": {},
   "source": [
    "### Assert features_extractors.angle_between_planes works property"
   ]
  },
  {
   "cell_type": "code",
   "execution_count": null,
   "metadata": {},
   "outputs": [],
   "source": [
    "plane_XY = Atoms(\"C3\", positions=[[0, 0, 0], [1, 0, 0], [0, 1, 0]], pbc=False)\n",
    "\n",
    "plane_YZ = Atoms(\"C3\", positions=[[0, 0, 0], [0, 1, 0], [0, 0, 1]], pbc=False)\n",
    "\n",
    "plane_XZ = Atoms(\"C3\", positions=[[1, 0, 0], [0, 0, 0], [0, 0, 1]], pbc=False)\n",
    "\n",
    "plane_45 = Atoms(\"C3\", positions=[[0, 0, 0], [1, 0, 0], [0, 1, 1]], pbc=False)\n",
    "\n",
    "plane_FLIPPED = Atoms(\"C3\", positions=[[1, 0, 0], [0, 0, 0], [0, 1, 0]], pbc=False)"
   ]
  },
  {
   "cell_type": "code",
   "execution_count": null,
   "metadata": {},
   "outputs": [],
   "source": [
    "# assert (\n",
    "#     features_extractors.angle_between_planes(\n",
    "#         plane_XY + plane_YZ, range(0, 3), range(3, 6)\n",
    "#     )\n",
    "#     == pi / 2\n",
    "# )\n",
    "\n",
    "# assert (\n",
    "#     features_extractors.angle_between_planes(\n",
    "#         plane_XY + plane_XZ, range(0, 3), range(3, 6)\n",
    "#     )\n",
    "#     == pi / 2\n",
    "# )\n",
    "\n",
    "# assert (\n",
    "#     abs(\n",
    "#         features_extractors.angle_between_planes(\n",
    "#             plane_XY + plane_45, range(0, 3), range(3, 6)\n",
    "#         )\n",
    "#     )\n",
    "#     - pi / 4\n",
    "#     < 0.0000001\n",
    "# )\n",
    "\n",
    "# assert (\n",
    "#     features_extractors.angle_between_planes(\n",
    "#         plane_XY + plane_FLIPPED, range(0, 3), range(3, 6)\n",
    "#     )\n",
    "#     == pi\n",
    "# )"
   ]
  },
  {
   "attachments": {},
   "cell_type": "markdown",
   "metadata": {},
   "source": [
    "### Check if benzene lies on flat plane:"
   ]
  },
  {
   "cell_type": "code",
   "execution_count": null,
   "metadata": {},
   "outputs": [],
   "source": [
    "# str(index_to_positions(to_flip1))\n",
    "# angles_to_flip = [(0, 4), (0, 5), (0, 6), (0, 9), (0, 10), (0, 11), (0, 12), (0, 15), (0, 18), (0, 19)] #, (1, 4), (1, 5), (1, 6), (1, 9), (1, 10), (1, 11), (1, 12), (1, 15), (1, 18), (1, 19), (2, 4), (2, 5), (2, 6), (2, 9), (2, 10), (2, 11), (2, 12), (2, 15), (2, 18), (2, 19), (3, 4), (3, 5), (3, 6), (3, 9), (3, 10), (3, 11), (3, 12), (3, 15), (3, 18), (3, 19), (4, 0), (4, 1), (4, 2), (4, 3), (4, 7), (4, 8), (4, 13), (4, 14), (4, 16), (4, 17), (5, 0), (5, 1), (5, 2), (5, 3), (5, 7), (5, 8), (5, 13), (5, 14), (5, 16), (5, 17), (6, 0), (6, 1), (6, 2), (6, 3), (6, 7), (6, 8), (6, 13), (6, 14), (6, 16), (6, 17), (7, 4), (7, 5), (7, 6), (7, 9), (7, 10), (7, 11), (7, 12), (7, 15), (7, 18), (7, 19), (8, 4), (8, 5), (8, 6), (8, 9), (8, 10), (8, 11), (8, 12), (8, 15), (8, 18), (8, 19), (9, 0), (9, 1), (9, 2), (9, 3), (9, 7), (9, 8), (9, 13), (9, 14), (9, 16), (9, 17), (10, 0), (10, 1), (10, 2), (10, 3), (10, 7), (10, 8), (10, 13), (10, 14), (10, 16), (10, 17), (11, 0), (11, 1), (11, 2), (11, 3), (11, 7), (11, 8), (11, 13), (11, 14), (11, 16), (11, 17), (12, 0), (12, 1), (12, 2), (12, 3), (12, 7), (12, 8), (12, 13), (12, 14), (12, 16), (12, 17), (13, 4), (13, 5), (13, 6), (13, 9), (13, 10), (13, 11), (13, 12), (13, 15), (13, 18), (13, 19), (14, 4), (14, 5), (14, 6), (14, 9), (14, 10), (14, 11), (14, 12), (14, 15), (14, 18), (14, 19), (15, 0), (15, 1), (15, 2), (15, 3), (15, 7), (15, 8), (15, 13), (15, 14), (15, 16), (15, 17), (16, 4), (16, 5), (16, 6), (16, 9), (16, 10), (16, 11), (16, 12), (16, 15), (16, 18), (16, 19), (17, 4), (17, 5), (17, 6), (17, 9), (17, 10), (17, 11), (17, 12), (17, 15), (17, 18), (17, 19), (18, 0), (18, 1), (18, 2), (18, 3), (18, 7), (18, 8), (18, 13), (18, 14), (18, 16), (18, 17), (19, 0), (19, 1), (19, 2), (19, 3), (19, 7), (19, 8), (19, 13), (19, 14), (19, 16), (19, 17)]\n",
    "\n",
    "# idxs_to_flip = list(map(lambda x: x[1], angles_to_flip))"
   ]
  },
  {
   "cell_type": "code",
   "execution_count": null,
   "metadata": {},
   "outputs": [],
   "source": [
    "benzene1_idxs = [11, 14, 15, 16, 17, 20]\n",
    "benzene2_idxs = [21, 24, 25, 26, 27, 30]\n",
    "\n",
    "angles_to_flip = [\n",
    "    (0, 4),\n",
    "    (0, 5),\n",
    "    (0, 6),\n",
    "    (0, 9),\n",
    "    (0, 10),\n",
    "    (0, 11),\n",
    "    (0, 12),\n",
    "    (0, 15),\n",
    "    (0, 18),\n",
    "    (0, 19),\n",
    "]  # , (1, 4), (1, 5), (1, 6), (1, 9), (1, 10), (1, 11), (1, 12), (1, 15), (1, 18), (1, 19), (2, 4), (2, 5), (2, 6), (2, 9), (2, 10), (2, 11), (2, 12), (2, 15), (2, 18), (2, 19), (3, 4), (3, 5), (3, 6), (3, 9), (3, 10), (3, 11), (3, 12), (3, 15), (3, 18), (3, 19), (4, 0), (4, 1), (4, 2), (4, 3), (4, 7), (4, 8), (4, 13), (4, 14), (4, 16), (4, 17), (5, 0), (5, 1), (5, 2), (5, 3), (5, 7), (5, 8), (5, 13), (5, 14), (5, 16), (5, 17), (6, 0), (6, 1), (6, 2), (6, 3), (6, 7), (6, 8), (6, 13), (6, 14), (6, 16), (6, 17), (7, 4), (7, 5), (7, 6), (7, 9), (7, 10), (7, 11), (7, 12), (7, 15), (7, 18), (7, 19), (8, 4), (8, 5), (8, 6), (8, 9), (8, 10), (8, 11), (8, 12), (8, 15), (8, 18), (8, 19), (9, 0), (9, 1), (9, 2), (9, 3), (9, 7), (9, 8), (9, 13), (9, 14), (9, 16), (9, 17), (10, 0), (10, 1), (10, 2), (10, 3), (10, 7), (10, 8), (10, 13), (10, 14), (10, 16), (10, 17), (11, 0), (11, 1), (11, 2), (11, 3), (11, 7), (11, 8), (11, 13), (11, 14), (11, 16), (11, 17), (12, 0), (12, 1), (12, 2), (12, 3), (12, 7), (12, 8), (12, 13), (12, 14), (12, 16), (12, 17), (13, 4), (13, 5), (13, 6), (13, 9), (13, 10), (13, 11), (13, 12), (13, 15), (13, 18), (13, 19), (14, 4), (14, 5), (14, 6), (14, 9), (14, 10), (14, 11), (14, 12), (14, 15), (14, 18), (14, 19), (15, 0), (15, 1), (15, 2), (15, 3), (15, 7), (15, 8), (15, 13), (15, 14), (15, 16), (15, 17), (16, 4), (16, 5), (16, 6), (16, 9), (16, 10), (16, 11), (16, 12), (16, 15), (16, 18), (16, 19), (17, 4), (17, 5), (17, 6), (17, 9), (17, 10), (17, 11), (17, 12), (17, 15), (17, 18), (17, 19), (18, 0), (18, 1), (18, 2), (18, 3), (18, 7), (18, 8), (18, 13), (18, 14), (18, 16), (18, 17), (19, 0), (19, 1), (19, 2), (19, 3), (19, 7), (19, 8), (19, 13), (19, 14), (19, 16), (19, 17)]\n",
    "idxs_to_flip = list(map(lambda x: x[1], angles_to_flip))\n",
    "\n",
    "\n",
    "df = pd.DataFrame({\"obj\": ase.io.iread(PATHS.PARTICLES_FILE)})\n",
    "df.head()"
   ]
  },
  {
   "cell_type": "code",
   "execution_count": null,
   "metadata": {},
   "outputs": [],
   "source": [
    "all_possible_idxs_combinations = []\n",
    "\n",
    "for i in range(6):\n",
    "    for j in range(i + 1, 6):\n",
    "        for k in range(j + 1, 6):\n",
    "            all_possible_idxs_combinations.append([i, j, k])\n",
    "\n",
    "assert len(all_possible_idxs_combinations) == 20"
   ]
  },
  {
   "cell_type": "code",
   "execution_count": null,
   "metadata": {},
   "outputs": [],
   "source": [
    "def get_all_plane_idxs(benzene_idxs):\n",
    "    all_possible_idxs_combinations = []\n",
    "    for i in range(6):\n",
    "        for j in range(i + 1, 6):\n",
    "            for k in range(j + 1, 6):\n",
    "                all_possible_idxs_combinations.append([i, j, k])\n",
    "\n",
    "    # assert len(all_possible_idxs_combinations) == 20\n",
    "    benzene_idxs = np.array(benzene_idxs)\n",
    "    return [benzene_idxs[idxs] for idxs in all_possible_idxs_combinations]\n",
    "\n",
    "\n",
    "def fix_atoms_order(all_plane_idxs, idxs_to_flip):\n",
    "    for i, _ in enumerate(all_plane_idxs):\n",
    "        if i in idxs_to_flip:\n",
    "            i0, i1, i2 = all_plane_idxs[i]\n",
    "            all_plane_idxs[i] = (i0, i2, i1)\n",
    "\n",
    "\n",
    "all_plane1_idxs = get_all_plane_idxs(benzene1_idxs)\n",
    "all_plane2_idxs = get_all_plane_idxs(benzene2_idxs)\n",
    "\n",
    "fix_atoms_order(all_plane1_idxs, idxs_to_flip)\n",
    "fix_atoms_order(all_plane2_idxs, idxs_to_flip)"
   ]
  },
  {
   "cell_type": "code",
   "execution_count": null,
   "metadata": {},
   "outputs": [],
   "source": [
    "def get_plane_vectors(particle, all_plane_idxs):\n",
    "    plane_vectors = []\n",
    "    for idxs in all_plane_idxs:\n",
    "        vec = features_extractors.calculate_perpendicular_vector(particle, idxs)\n",
    "        plane_vectors.append(vec)\n",
    "    plane_vectors = np.array(plane_vectors)\n",
    "    return plane_vectors / np.linalg.norm(plane_vectors, axis=1, keepdims=True)\n",
    "\n",
    "\n",
    "def get_plane_cos(particle, all_plane_idxs):\n",
    "    plane_vectors = get_plane_vectors(particle, all_plane_idxs)\n",
    "    return np.clip(np.dot(plane_vectors, plane_vectors.T), -1.0, 1.0)\n",
    "\n",
    "\n",
    "def get_plane_angles(particle, all_plane_idxs):\n",
    "    return np.arccos(get_plane_cos(particle, all_plane_idxs)).reshape(-1)\n",
    "\n",
    "\n",
    "df[\"angles1\"] = df[\"obj\"].apply(lambda p: get_plane_angles(p, all_plane1_idxs))\n",
    "df[\"angles2\"] = df[\"obj\"].apply(lambda p: get_plane_angles(p, all_plane2_idxs))"
   ]
  },
  {
   "cell_type": "code",
   "execution_count": null,
   "metadata": {},
   "outputs": [],
   "source": [
    "to_radians = lambda x: x / 2 / pi * 360\n",
    "\n",
    "\n",
    "angles1_df = pd.DataFrame(dict(df[\"angles1\"])).T.applymap(to_radians)\n",
    "angles2_df = pd.DataFrame(dict(df[\"angles2\"])).T.applymap(to_radians)\n",
    "col_names = [f\"ang{i}_{j}\" for i in range(20) for j in range(20)]\n",
    "angles1_df.columns = col_names\n",
    "angles2_df.columns = col_names"
   ]
  },
  {
   "cell_type": "code",
   "execution_count": null,
   "metadata": {},
   "outputs": [],
   "source": [
    "plt.gcf().suptitle(\"Mean angles between normal vectors of the same benzene\")\n",
    "\n",
    "ax = plt.subplot(1, 2, 1)\n",
    "angles1_df.mean().sort_values().plot.bar()\n",
    "plt.xticks([])\n",
    "\n",
    "ax = plt.subplot(1, 2, 2)\n",
    "angles2_df.mean().sort_values().plot.bar()\n",
    "plt.xticks([])\n",
    "\n",
    "# print(\"\"\"values oscillate about 0 or 180.\n",
    "# Thats mean some of the angles are flipped,\n",
    "# but all of them are close to excepted values\"\"\")"
   ]
  },
  {
   "cell_type": "code",
   "execution_count": null,
   "metadata": {},
   "outputs": [],
   "source": [
    "angles2_std_df = angles2_df.std().sort_values()\n",
    "angles1_std_df = angles1_df.std().sort_values()\n",
    "\n",
    "angles1_std = angles1_df.std().mean()\n",
    "angles2_std = angles1_df.std().mean()\n",
    "\n",
    "\n",
    "angles1_std_df_agg = angles1_std_df.groupby(by=lambda x: x.split(\"_\")[0]).agg(np.std)\n",
    "min_val = angles1_std_df_agg.argmin()\n",
    "print(\"mean std for angles1 in radians:\", round(angles1_std, 2))\n",
    "print(\n",
    "    \"smallest std for benzene1:\", angles1_std_df_agg[min_val : min_val + 1]\n",
    ")  # pierwsze dwadziescia to kąty ze samym sobą\n",
    "\n",
    "print(\"\\n\", \"#\" * 50, \"\\n\", sep=\"\")\n",
    "\n",
    "angles2_std_df_agg = angles2_std_df.groupby(by=lambda x: x.split(\"_\")[0]).agg(np.std)\n",
    "min_val = angles2_std_df_agg.argmin()\n",
    "print(\"mean std for angles2 in radians:\", round(angles2_std, 2))\n",
    "print(\n",
    "    \"smallest std for benzene1:\", angles2_std_df_agg[min_val : min_val + 1]\n",
    ")  # pierwsze dwadziescia to kąty ze samym sobą\n",
    "\n",
    "# angles1_std_df.plot.bar()\n",
    "# plt.ylabel(\"Angles in radians\")\n",
    "# plt.xlabel(\"sorted std\")\n",
    "# plt.title(\"Standard derivation of angles between benzene1 normal vectors pairwise\")\n",
    "# plt.xticks([])"
   ]
  },
  {
   "cell_type": "markdown",
   "metadata": {},
   "source": [
    "Calculate mean vector"
   ]
  },
  {
   "cell_type": "code",
   "execution_count": null,
   "metadata": {},
   "outputs": [],
   "source": [
    "# # at this point not all vectors were turned in the same turn,\n",
    "# # so purpose of this code is to find which one needs to be turned\n",
    "\n",
    "# to_flip1_mask = (angles1_df.mean() > 90)\n",
    "# to_flip1 = list(to_flip1_mask[to_flip1_mask].index)\n",
    "\n",
    "# to_flip2_mask = (angles2_df.mean() > 90)\n",
    "# to_flip2 = list(to_flip2_mask[to_flip2_mask].index)\n",
    "\n",
    "# def index_to_positions(indexes: list):\n",
    "#     pattern = r\"ang(\\d+)_(\\d+)\"\n",
    "#     positions = []\n",
    "#     for index in indexes:\n",
    "#         pos1, pos2 = re.search(pattern, index).groups()\n",
    "#         positions.append((int(pos1), int(pos2)))\n",
    "#     return positions\n",
    "\n",
    "# str(index_to_positions(to_flip1))"
   ]
  },
  {
   "cell_type": "markdown",
   "metadata": {},
   "source": [
    "# Correlations"
   ]
  },
  {
   "cell_type": "code",
   "execution_count": null,
   "metadata": {},
   "outputs": [],
   "source": [
    "df[\"y\"] = pd.read_csv(PATHS.TRANSPORT_FILE, header=None)[0]\n",
    "\n",
    "df = df.drop([\"angles1\", \"angles2\"], axis=1)\n",
    "df"
   ]
  },
  {
   "cell_type": "code",
   "execution_count": null,
   "metadata": {},
   "outputs": [],
   "source": [
    "df[\"y\"] = np.log(df[\"y\"])"
   ]
  },
  {
   "cell_type": "code",
   "execution_count": null,
   "metadata": {},
   "outputs": [],
   "source": [
    "most_stable1 = all_plane1_idxs[7]\n",
    "most_stable2 = all_plane2_idxs[12]"
   ]
  },
  {
   "cell_type": "code",
   "execution_count": null,
   "metadata": {},
   "outputs": [],
   "source": [
    "df[\"benzenes_angle_stable\"] = df[\"obj\"].apply(\n",
    "    lambda particle: features_extractors.cos_between_planes(\n",
    "        particle, most_stable1, most_stable2\n",
    "    )\n",
    ")\n",
    "df[\"benzenes_angle_stable\"] = df[\"benzenes_angle_stable\"] ** 2"
   ]
  },
  {
   "cell_type": "code",
   "execution_count": null,
   "metadata": {},
   "outputs": [],
   "source": [
    "df[[\"y\", \"benzenes_angle_stable\"]].corr()"
   ]
  },
  {
   "cell_type": "code",
   "execution_count": null,
   "metadata": {},
   "outputs": [],
   "source": [
    "def get_mean_norm_vec(particle, all_plane_idxs):\n",
    "    mean_vec = get_plane_vectors(particle, all_plane_idxs).mean(axis=0)\n",
    "    return mean_vec / np.linalg.norm(mean_vec)\n",
    "\n",
    "\n",
    "def angle_between_mean_planes(\n",
    "    particle: ase.atoms.Atoms, all_plane1_idxs, all_plane2_idxs\n",
    "):\n",
    "    normal_vec1 = get_mean_norm_vec(particle, all_plane1_idxs)\n",
    "    normal_vec2 = get_mean_norm_vec(particle, all_plane2_idxs)\n",
    "    return features_extractors.angle_between(normal_vec1, normal_vec2)\n",
    "\n",
    "\n",
    "df[\"benzenes_angle_mean\"] = df[\"obj\"].apply(\n",
    "    lambda particle: angle_between_mean_planes(\n",
    "        particle, all_plane1_idxs, all_plane2_idxs\n",
    "    )\n",
    ")\n",
    "df[\"benzenes_angle_mean\"] = np.cos(df[\"benzenes_angle_mean\"]) ** 2"
   ]
  },
  {
   "cell_type": "code",
   "execution_count": null,
   "metadata": {},
   "outputs": [],
   "source": [
    "df[[\"y\", \"benzenes_angle_mean\"]].corr()"
   ]
  },
  {
   "cell_type": "code",
   "execution_count": null,
   "metadata": {},
   "outputs": [],
   "source": [
    "b1nv = df[\"obj\"].apply(lambda p: get_plane_vectors(p, all_plane1_idxs))\n",
    "b2nv = df[\"obj\"].apply(lambda p: get_plane_vectors(p, all_plane2_idxs))"
   ]
  },
  {
   "cell_type": "code",
   "execution_count": null,
   "metadata": {},
   "outputs": [],
   "source": [
    "from tqdm import tqdm\n",
    "\n",
    "b1nv = np.array(list(b1nv))\n",
    "b2nv = np.array(list(b2nv))"
   ]
  },
  {
   "cell_type": "code",
   "execution_count": null,
   "metadata": {},
   "outputs": [],
   "source": [
    "import itertools\n",
    "\n",
    "idxes = itertools.combinations_with_replacement(range(20), 2)\n",
    "correlations = dict()\n",
    "\n",
    "for idx1, idx2 in tqdm(idxes):\n",
    "    coss_sq = np.sum(b1nv[:, idx1, :] * b2nv[:, idx2, :], axis=1) ** 2\n",
    "    correlations[(idx1, idx2)] = np.corrcoef(np.log(coss_sq), df[\"y\"])[1, 0]"
   ]
  },
  {
   "cell_type": "code",
   "execution_count": null,
   "metadata": {},
   "outputs": [],
   "source": [
    "idxmax = pd.Series(correlations).idxmax()"
   ]
  },
  {
   "cell_type": "code",
   "execution_count": null,
   "metadata": {},
   "outputs": [],
   "source": [
    "pd.Series(correlations).loc[idxmax]"
   ]
  },
  {
   "cell_type": "code",
   "execution_count": null,
   "metadata": {},
   "outputs": [],
   "source": [
    "all_plane1_idxs[idxmax[0]], all_plane2_idxs[idxmax[1]]"
   ]
  }
 ],
 "metadata": {
  "kernelspec": {
   "display_name": "",
   "language": "python",
   "name": ""
  },
  "language_info": {
   "codemirror_mode": {
    "name": "ipython",
    "version": 3
   },
   "file_extension": ".py",
   "mimetype": "text/x-python",
   "name": "python",
   "nbconvert_exporter": "python",
   "pygments_lexer": "ipython3",
   "version": "3.10.11"
  },
  "orig_nbformat": 4
 },
 "nbformat": 4,
 "nbformat_minor": 2
}
