{
 "cells": [
  {
   "cell_type": "code",
   "execution_count": null,
   "metadata": {},
   "outputs": [],
   "source": [
    "import os\n",
    "import sys\n",
    "\n",
    "sys.path.append(\"..\")\n",
    "\n",
    "import ase.atoms\n",
    "import ase.io\n",
    "import matplotlib.pyplot as plt\n",
    "import numpy as np\n",
    "import pandas as pd\n",
    "import sklearn.ensemble\n",
    "import sklearn.metrics\n",
    "import sklearn.model_selection\n",
    "from tqdm import tqdm\n",
    "\n",
    "import config.paths as PATHS\n",
    "import src.features.features_extractors as features_extractors\n",
    "from src.features import input_parsers\n",
    "\n",
    "plt.style.use(\"seaborn-v0_8\")"
   ]
  },
  {
   "attachments": {},
   "cell_type": "markdown",
   "metadata": {},
   "source": [
    "### Constans"
   ]
  },
  {
   "cell_type": "code",
   "execution_count": null,
   "metadata": {},
   "outputs": [],
   "source": [
    "seed = 0xCAFFE"
   ]
  },
  {
   "attachments": {},
   "cell_type": "markdown",
   "metadata": {},
   "source": [
    "### Single particle loading for experiments: "
   ]
  },
  {
   "cell_type": "code",
   "execution_count": null,
   "metadata": {},
   "outputs": [],
   "source": [
    "particle = ase.io.read(PATHS.SINGLE_PARTICLE_FILE)\n",
    "particle"
   ]
  },
  {
   "cell_type": "code",
   "execution_count": null,
   "metadata": {},
   "outputs": [],
   "source": [
    "# %conda install -c conda-forge nglview"
   ]
  },
  {
   "attachments": {},
   "cell_type": "markdown",
   "metadata": {},
   "source": [
    "# Feature definition"
   ]
  },
  {
   "cell_type": "code",
   "execution_count": null,
   "metadata": {},
   "outputs": [],
   "source": [
    "sulfur_idxs = [10, 31]\n",
    "\n",
    "benzene1_idxs = [11, 14, 15, 16, 17, 20]\n",
    "benzene2_idxs = [21, 24, 25, 26, 27, 30]\n",
    "\n",
    "benzene1_plane_idxs = [14, 15, 16]\n",
    "benzene2_plane_idxs = [25, 26, 27]"
   ]
  },
  {
   "cell_type": "markdown",
   "metadata": {},
   "source": [
    "# Apply to all particles:"
   ]
  },
  {
   "cell_type": "code",
   "execution_count": null,
   "metadata": {},
   "outputs": [],
   "source": [
    "df = input_parsers.read_raw_data(\n",
    "    PATHS.PARTICLES_FILE, PATHS.TRANSPORT_FILE, PATHS.FEATURES_CACHE\n",
    ")\n",
    "df[\"y\"] = np.log(df[\"y\"])  # ToDo: log dodany do y - refactor it\n",
    "df.head()"
   ]
  },
  {
   "cell_type": "code",
   "execution_count": null,
   "metadata": {},
   "outputs": [],
   "source": [
    "au = np.array([1, 6, 5, 10, 33, 38, 39, 42]) - 1\n",
    "s = np.array([31, 32]) - 1\n",
    "h = np.array([13, 14, 19, 20, 23, 24, 29, 30]) - 1\n",
    "# benzenes are reindexed so not substracting one is intentionally\n",
    "b1 = np.array([11, 14, 15, 16, 17, 20])\n",
    "b2 = np.array([21, 24, 25, 26, 27, 30])"
   ]
  },
  {
   "cell_type": "code",
   "execution_count": null,
   "metadata": {},
   "outputs": [],
   "source": [
    "def get_all_triples(items_to_combine):\n",
    "    items_num = len(items_to_combine)\n",
    "    all_possible_idxs_combinations = []\n",
    "    for i in range(items_num):\n",
    "        for j in range(i + 1, items_num):\n",
    "            for k in range(j + 1, items_num):\n",
    "                all_possible_idxs_combinations.append([i, j, k])\n",
    "\n",
    "    items_to_combine = np.array(items_to_combine)\n",
    "    return [items_to_combine[idxs] for idxs in all_possible_idxs_combinations]\n",
    "\n",
    "\n",
    "def get_all_pairs(items_to_combine):\n",
    "    items_num = len(items_to_combine)\n",
    "    all_possible_idxs_combinations = []\n",
    "    for i in range(items_num):\n",
    "        for j in range(i + 1, items_num):\n",
    "            all_possible_idxs_combinations.append([i, j])\n",
    "\n",
    "    items_to_combine = np.array(items_to_combine)\n",
    "    return [items_to_combine[idxs] for idxs in all_possible_idxs_combinations]\n",
    "\n",
    "\n",
    "important_atoms = np.concatenate([au, s, h, b1, b2])\n",
    "all_dst = get_all_pairs(important_atoms)\n",
    "np.array(all_dst).shape"
   ]
  },
  {
   "cell_type": "code",
   "execution_count": null,
   "metadata": {},
   "outputs": [],
   "source": [
    "for idx1, idx2 in tqdm(all_dst):\n",
    "    features_extractors.add_dst_feature(df, idx1, idx2)"
   ]
  },
  {
   "cell_type": "code",
   "execution_count": null,
   "metadata": {},
   "outputs": [],
   "source": [
    "for idx1, idx2 in tqdm(all_dst):\n",
    "    if not (idx1 == 22 or idx2 == 22):\n",
    "        features_extractors.add_ang_feature(df, idx1, 22, idx2)"
   ]
  },
  {
   "cell_type": "code",
   "execution_count": null,
   "metadata": {},
   "outputs": [],
   "source": [
    "X = df.iloc[:, 2:]\n",
    "y = df[\"y\"]"
   ]
  },
  {
   "cell_type": "code",
   "execution_count": null,
   "metadata": {},
   "outputs": [],
   "source": [
    "from sklearn.feature_selection import VarianceThreshold\n",
    "\n",
    "var_sel = VarianceThreshold(threshold=(0.8 * (1 - 0.8)))\n",
    "X = var_sel.fit_transform(X)"
   ]
  },
  {
   "cell_type": "code",
   "execution_count": null,
   "metadata": {},
   "outputs": [],
   "source": [
    "var_sel.n_features_in_, var_sel.get_feature_names_out().shape[0]"
   ]
  },
  {
   "cell_type": "code",
   "execution_count": null,
   "metadata": {},
   "outputs": [],
   "source": [
    "import numpy as np\n",
    "from deap import algorithms, base, creator, tools\n",
    "from sklearn.model_selection import train_test_split\n",
    "from sklearn.tree import DecisionTreeRegressor\n",
    "\n",
    "# Split the dataset into training and testing sets\n",
    "X_train, X_test, y_train, y_test = train_test_split(\n",
    "    X, y, test_size=0.2, random_state=42\n",
    ")\n",
    "y_test_eval = np.exp(y_test)\n",
    "\n",
    "\n",
    "# Define the evaluation function for the genetic algorithm\n",
    "def evaluate(individual):\n",
    "    # Convert the individual's chromosome to a boolean mask\n",
    "    mask = np.asarray(individual, dtype=bool)\n",
    "    # Apply the mask to the training data to select the features\n",
    "    X_train_masked = X_train[:, mask]\n",
    "    # Train a decision tree regressor on the masked data\n",
    "    clf = DecisionTreeRegressor(random_state=42)\n",
    "    clf.fit(X_train_masked, y_train)\n",
    "    # Apply the mask to the testing data to select the features\n",
    "    X_test_masked = X_test[:, mask]\n",
    "    # Calculate the mean squared error of the regressor on the masked testing data\n",
    "    y_pred = np.exp(clf.predict(X_test_masked))\n",
    "    mape = sklearn.metrics.mean_absolute_percentage_error(y_test_eval, y_pred)\n",
    "    features_ratio = np.mean(mask)\n",
    "    return mape, features_ratio\n",
    "\n",
    "\n",
    "# Define the genetic algorithm's parameters\n",
    "POPULATION_SIZE = 50\n",
    "P_CROSSOVER = 0.5\n",
    "P_MUTATION = 0.9\n",
    "MAX_GENERATIONS = 10\n",
    "HALL_OF_FAME_SIZE = 5\n",
    "RANDOM_SEED = 42\n",
    "FEATURE_PROB = 0.05\n",
    "TOURNAMENT_FRAC = 0.1\n",
    "\n",
    "\n",
    "def mutate_swap(individual, indpb, swaps=5):\n",
    "    included, not_included = [], []\n",
    "    for idx, is_included in enumerate(individual):\n",
    "        if is_included:\n",
    "            included.append(idx)\n",
    "        else:\n",
    "            not_included.append(idx)\n",
    "\n",
    "    # i, j = np.random.choice(len(individual), size=2, replace=False)\n",
    "    if included == [] or not_included == []:\n",
    "        return (individual,)\n",
    "\n",
    "    for _ in range(swaps):\n",
    "        if np.random.random() > indpb:\n",
    "            i = np.random.choice(included)\n",
    "            j = np.random.choice(not_included)\n",
    "\n",
    "            individual[i], individual[j] = individual[j], individual[i]\n",
    "    return (individual,)\n",
    "\n",
    "\n",
    "def multi_mutate(individual, indpb):\n",
    "    individual = tools.mutFlipBit(individual, indpb / 8)[\n",
    "        0\n",
    "    ]  # napisać swojego z osobnym pstwem dla true i false\n",
    "    # individual = tools.mutShuffleIndexes(individual, indpb)[0]\n",
    "    # individual = mutate_swap(individual, indpb)[0]\n",
    "    return (individual,)\n",
    "\n",
    "\n",
    "# Define the genetic algorithm's toolbox\n",
    "creator.create(\"FitnessMin\", base.Fitness, weights=(-1.0, -0.05))\n",
    "creator.create(\"Individual\", list, fitness=creator.FitnessMin)\n",
    "toolbox = base.Toolbox()\n",
    "toolbox.register(\n",
    "    \"attr_bool\", np.random.choice, [True, False], p=[FEATURE_PROB, 1 - FEATURE_PROB]\n",
    ")\n",
    "toolbox.register(\n",
    "    \"individual\", tools.initRepeat, creator.Individual, toolbox.attr_bool, n=X.shape[1]\n",
    ")\n",
    "toolbox.register(\"population\", tools.initRepeat, list, toolbox.individual)\n",
    "toolbox.register(\"evaluate\", evaluate)\n",
    "toolbox.register(\"mate\", tools.cxTwoPoint)\n",
    "toolbox.register(\"mutate\", multi_mutate, indpb=0.5)\n",
    "toolbox.register(\n",
    "    \"select\", tools.selTournament, tournsize=int(POPULATION_SIZE * TOURNAMENT_FRAC)\n",
    ")\n",
    "\n",
    "# Set the random seed for reproducibility\n",
    "np.random.seed(RANDOM_SEED)\n",
    "\n",
    "# Create the initial population of individuals\n",
    "population = toolbox.population(n=POPULATION_SIZE)\n",
    "\n",
    "# Define the statistics to collect during the genetic algorithm\n",
    "stats = tools.Statistics(lambda ind: ind.fitness.values)\n",
    "stats.register(\"min mape\", lambda x: np.min(x, axis=0)[0])\n",
    "stats.register(\"avg mape\", lambda x: np.mean(x, axis=0)[0])\n",
    "stats.register(\"min feature ratio\", lambda x: np.min(x, axis=0)[1])\n",
    "stats.register(\"avg feature ratio\", lambda x: np.mean(x, axis=0)[1])"
   ]
  },
  {
   "cell_type": "code",
   "execution_count": null,
   "metadata": {},
   "outputs": [],
   "source": [
    "# Run the genetic algorithm\n",
    "population, logbook = algorithms.eaSimple(\n",
    "    population,\n",
    "    toolbox,\n",
    "    cxpb=P_CROSSOVER,\n",
    "    mutpb=P_MUTATION,\n",
    "    ngen=MAX_GENERATIONS,\n",
    "    stats=stats,\n",
    "    halloffame=tools.HallOfFame(HALL_OF_FAME_SIZE),\n",
    "    verbose=True,\n",
    ")"
   ]
  },
  {
   "cell_type": "code",
   "execution_count": null,
   "metadata": {},
   "outputs": [],
   "source": [
    "# Print the best individual found by the genetic algorithm\n",
    "best_individual = tools.selBest(population, k=1)[0]\n",
    "best_mask = np.asarray(best_individual, dtype=bool)\n",
    "best_features = var_sel.get_feature_names_out()[best_mask]\n",
    "# print(\"Best individual found: \", best_individual)\n",
    "print(\"Best mape: \", evaluate(best_individual)[0])\n",
    "print(\"Best features: \", best_features)\n",
    "len(best_features)"
   ]
  },
  {
   "cell_type": "code",
   "execution_count": null,
   "metadata": {},
   "outputs": [],
   "source": [
    "import re\n",
    "\n",
    "\n",
    "def feature_id_to_positions(indexes: list):\n",
    "    pattern = r\"^[a-zA-Z]+(\\d{1,2})[a-zA-Z]+(\\d{1,2})$\"\n",
    "    positions = []\n",
    "    for index in indexes:\n",
    "        pos1, pos2 = re.search(pattern, index).groups()\n",
    "        positions.append((int(pos1), int(pos2)))\n",
    "    return positions\n",
    "\n",
    "\n",
    "dst_features = [\n",
    "    \"dstAu0C17\",\n",
    "    \"dstAu0C25\",\n",
    "    \"dstAu5S31\",\n",
    "    \"dstAu5H18\",\n",
    "    \"dstAu4Au9\",\n",
    "    \"dstAu4Au38\",\n",
    "    \"dstAu4C30\",\n",
    "    \"dstAu4H13\",\n",
    "    \"dstAu9Au37\",\n",
    "    \"dstAu9H12\",\n",
    "    \"dstAu9C15\",\n",
    "    \"dstAu9C24\",\n",
    "    \"dstAu32Au41\",\n",
    "    \"dstAu32C26\",\n",
    "    \"dstAu41H18\",\n",
    "    \"dstAu41H23\",\n",
    "    \"dstAu41C25\",\n",
    "    \"dstC30C30\",\n",
    "    \"dstS31H18\",\n",
    "    \"dstS31C14\",\n",
    "    \"dstH12H22\",\n",
    "    \"dstH13C17\",\n",
    "    \"dstH18H22\",\n",
    "    \"dstH19C17\",\n",
    "    \"dstC11C14\",\n",
    "    \"dstC11C17\",\n",
    "    \"dstC11C21\",\n",
    "    \"dstC21C26\",\n",
    "]\n",
    "\n",
    "print(feature_id_to_positions(dst_features))"
   ]
  },
  {
   "cell_type": "code",
   "execution_count": null,
   "metadata": {},
   "outputs": [],
   "source": []
  }
 ],
 "metadata": {
  "kernelspec": {
   "display_name": "",
   "language": "python",
   "name": ""
  },
  "language_info": {
   "codemirror_mode": {
    "name": "ipython",
    "version": 3
   },
   "file_extension": ".py",
   "mimetype": "text/x-python",
   "name": "python",
   "nbconvert_exporter": "python",
   "pygments_lexer": "ipython3",
   "version": "3.10.11"
  },
  "orig_nbformat": 4
 },
 "nbformat": 4,
 "nbformat_minor": 2
}
