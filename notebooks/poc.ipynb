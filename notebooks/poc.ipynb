{
 "cells": [
  {
   "cell_type": "code",
   "execution_count": null,
   "metadata": {},
   "outputs": [],
   "source": []
  },
  {
   "cell_type": "code",
   "execution_count": null,
   "metadata": {},
   "outputs": [],
   "source": [
    "import os\n",
    "\n",
    "import ase.io\n",
    "import ase.atoms\n",
    "import scipy.stats\n",
    "import numpy as np\n",
    "import pandas as pd\n",
    "import matplotlib.pyplot as plt\n",
    "\n",
    "plt.style.use('seaborn-v0_8')"
   ]
  },
  {
   "cell_type": "code",
   "execution_count": null,
   "metadata": {},
   "outputs": [],
   "source": [
    "particles = list(ase.io.iread(os.path.join('data', 'S_random_8000.xyz')))\n"
   ]
  },
  {
   "cell_type": "code",
   "execution_count": null,
   "metadata": {},
   "outputs": [],
   "source": [
    "particle = particles[0]\n",
    "# help(particle)\n",
    "pd.DataFrame(\n",
    "    particle.get_all_distances().round(2) + np.identity(42), \n",
    "    index=particle.get_chemical_symbols(),\n",
    "    columns=particle.get_chemical_symbols()\n",
    ").head()"
   ]
  },
  {
   "cell_type": "code",
   "execution_count": null,
   "metadata": {},
   "outputs": [],
   "source": [
    "particle_span = []\n",
    "for particle in particles:\n",
    "    particle_span.append(np.max(particle.get_all_distances()))\n",
    "    \n"
   ]
  },
  {
   "cell_type": "code",
   "execution_count": null,
   "metadata": {},
   "outputs": [],
   "source": [
    "y = pd.read_csv(os.path.join('data', 'S_random_8000.trans'), header=None)[0]"
   ]
  },
  {
   "cell_type": "code",
   "execution_count": null,
   "metadata": {},
   "outputs": [],
   "source": [
    "scipy.stats.pearsonr(y, particle_span)"
   ]
  },
  {
   "cell_type": "code",
   "execution_count": null,
   "metadata": {},
   "outputs": [],
   "source": [
    "dst_series = pd.Series(particle_span)\n",
    "dst_series.name = \"particle span\"\n",
    "mu, std = scipy.stats.norm.fit(dst_series) \n",
    "dst_series.plot.hist(bins=15, density=True, edgecolor = \"white\")\n",
    "\n",
    "xmin, xmax = plt.xlim()\n",
    "x = np.linspace(xmin, xmax, 100)\n",
    "p = scipy.stats.norm.pdf(x, mu, std)\n",
    "\n",
    "plt.plot(x, p, 'r',  linewidth=2)\n",
    "plt.xlabel(\"Particle Span [Å]\")\n",
    "plt.title(\"Histogram\")\n",
    "plt.grid(axis='x')"
   ]
  },
  {
   "cell_type": "code",
   "execution_count": null,
   "metadata": {},
   "outputs": [],
   "source": [
    "for i, atom in enumerate(particle):\n",
    "    print(i, atom)"
   ]
  },
  {
   "cell_type": "code",
   "execution_count": null,
   "metadata": {},
   "outputs": [],
   "source": [
    "# 1. siarka - odłegość między nimi\n",
    "sulfur_idxes = [10, 31]\n",
    "# 2. benzeny odległość między środkami\n",
    "benzene1_idxes = [11, 14, 15, 16, 17, 20]\n",
    "benzene2_idxes = [21, 24, 25, 26, 27, 30]\n",
    "# 3. kąt skręcenia benzenów - skręcają się tylko na osi wiązania między 21 a 22 (z obrazka)\n",
    "benzene1_plane_idxes = [14, 15, 16]   # oba przypadki to V-ki zaczynające się od prawego górenego rogu, potem dolny i potem lewy gorny\n",
    "benzene2_plane_idxes = [25, 26, 27]\n",
    "# 4.  kąty międy jakimiś parami atomów Au-S-C, czy C-C-C, może wybór genetyczny?\n",
    "Au_S_C_idxes_1 = [30, 31, 32]\n",
    "Au_S_C_idxes_2 = [9, 10, 11]\n",
    "# 5. wyciągnąć dane ze stinga informacyjnego\n",
    "\n",
    "\n",
    "    \n",
    "# 1.\n",
    "particle.get_distance(*sulfur_idxes)\n",
    "\n",
    "# 2.\n",
    "benzene1_center = np.mean(particle.positions[benzene1_idxes], axis=0)\n",
    "benzene2_center = np.mean(particle.positions[benzene2_idxes], axis=0)\n",
    "np.linalg.norm(benzene1_center - benzene2_center)\n",
    "\n",
    "# 3.\n",
    "#   wektory v1, v2 rozpinające płaszyczyznę\n",
    "benzene1_v1 = particle.positions[benzene1_plane_idxes[0]] - particle.positions[benzene1_plane_idxes[1]]\n",
    "benzene1_v2 = particle.positions[benzene1_plane_idxes[2]] - particle.positions[benzene1_plane_idxes[1]]\n",
    "\n",
    "benzene2_v1 = particle.positions[benzene2_plane_idxes[0]] - particle.positions[benzene2_plane_idxes[1]]\n",
    "benzene2_v2 = particle.positions[benzene2_plane_idxes[2]] - particle.positions[benzene2_plane_idxes[1]]\n",
    "\n",
    "#   wektor normalny płaszczyzny - np.cross iloczyn wektoryowy\n",
    "plane1 = np.cross(benzene1_v1, benzene1_v2)\n",
    "plane2 = np.cross(benzene2_v1, benzene2_v2)\n",
    "\n",
    "#   kąt między wektorami\n",
    "def unit_vector(vector):\n",
    "    \"\"\" Returns the unit vector of the vector.  \"\"\"\n",
    "    return vector / np.linalg.norm(vector)\n",
    "\n",
    "\n",
    "def angle_between(v1, v2):\n",
    "    \"\"\" Returns the angle in radians between vectors 'v1' and 'v2'::\n",
    "\n",
    "            >>> angle_between((1, 0, 0), (0, 1, 0))\n",
    "            1.5707963267948966\n",
    "            >>> angle_between((1, 0, 0), (1, 0, 0))\n",
    "            0.0\n",
    "            >>> angle_between((1, 0, 0), (-1, 0, 0))\n",
    "            3.141592653589793\n",
    "    \"\"\"\n",
    "    v1_u = unit_vector(v1)\n",
    "    v2_u = unit_vector(v2)\n",
    "    return np.arccos(np.clip(np.dot(v1_u, v2_u), -1.0, 1.0))\n",
    "\n",
    "\n",
    "angle_between(plane1, plane2)\n",
    "\n",
    "\n",
    "# 4.\n",
    "# permutacje wszystkich kątów Au S C\n",
    "for i in range(3):\n",
    "    idxes_1 = [Au_S_C_idxes_1[i%3], Au_S_C_idxes_1[(i+1)%3], Au_S_C_idxes_1[(i+2)%3]]\n",
    "    idxes_2 = [Au_S_C_idxes_2[i%3], Au_S_C_idxes_2[(i+1)%3], Au_S_C_idxes_2[(i+2)%3]]\n",
    "    print(particle.get_angle(*idxes_1), particle.get_angle(*idxes_2))\n",
    "    \n",
    "# 5.\n"
   ]
  },
  {
   "cell_type": "code",
   "execution_count": null,
   "metadata": {},
   "outputs": [],
   "source": [
    "\n",
    "xyz = particles[0]"
   ]
  },
  {
   "cell_type": "code",
   "execution_count": null,
   "metadata": {},
   "outputs": [],
   "source": [
    "xyz.get_angles([[0,2, 3]])"
   ]
  },
  {
   "cell_type": "code",
   "execution_count": null,
   "metadata": {},
   "outputs": [],
   "source": []
  }
 ],
 "metadata": {
  "kernelspec": {
   "display_name": "",
   "language": "python",
   "name": ""
  },
  "language_info": {
   "codemirror_mode": {
    "name": "ipython",
    "version": 3
   },
   "file_extension": ".py",
   "mimetype": "text/x-python",
   "name": "python",
   "nbconvert_exporter": "python",
   "pygments_lexer": "ipython3",
   "version": "3.10.7"
  },
  "orig_nbformat": 4
 },
 "nbformat": 4,
 "nbformat_minor": 2
}
